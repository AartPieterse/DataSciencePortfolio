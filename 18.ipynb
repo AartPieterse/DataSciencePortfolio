{
 "cells": [
  {
   "cell_type": "markdown",
   "id": "eb5efbfa",
   "metadata": {},
   "source": [
    "## Portfolio assignment 18\n",
    "30 min: Train a decision tree to predict one of the numerical columns of your own dataset.\n",
    "- Split your dataset into a train (70%) and test (30%) set.\n",
    "- Use the train set to fit a DecisionTreeRegressor. You are free to to choose which columns you want to use as feature variables and you are also free to choose the max_depth of the tree. \n",
    "- Use your decision tree model to make predictions for both the train and test set.\n",
    "- Calculate the accuracy for both the train set predictions and test set predictions.\n",
    "- Is the accurracy different? Did you expect this difference?\n",
    "- Use the plot_tree function above to create a plot of the decision tree. Take a few minutes to analyse the decision tree. Do you understand the tree?"
   ]
  },
  {
   "cell_type": "code",
   "execution_count": 10,
   "id": "2395a61b",
   "metadata": {},
   "outputs": [],
   "source": [
    "import pandas as pd\n",
    "\n",
    "import graphviz\n",
    "import numpy\n",
    "\n",
    "from sklearn import tree\n",
    "from sklearn.tree import DecisionTreeRegressor as DTRegressor\n",
    "from sklearn.model_selection import train_test_split as TTS"
   ]
  },
  {
   "cell_type": "code",
   "execution_count": 11,
   "id": "b260c7fb",
   "metadata": {},
   "outputs": [
    {
     "data": {
      "text/plain": [
       "Gunshot              411\n",
       "Taser                 27\n",
       "Death in custody      14\n",
       "Struck by vehicle     12\n",
       "Unknown                3\n",
       "Name: cause, dtype: int64"
      ]
     },
     "execution_count": 11,
     "metadata": {},
     "output_type": "execute_result"
    }
   ],
   "source": [
    "data = pd.read_csv('4.data.txt')\n",
    "data.cause.value_counts()"
   ]
  },
  {
   "cell_type": "code",
   "execution_count": 12,
   "id": "c484906a",
   "metadata": {},
   "outputs": [
    {
     "data": {
      "text/plain": [
       "Gunshot              381\n",
       "Taser                 26\n",
       "Death in custody      14\n",
       "Struck by vehicle     12\n",
       "Unknown                3\n",
       "Name: cause, dtype: int64"
      ]
     },
     "execution_count": 12,
     "metadata": {},
     "output_type": "execute_result"
    }
   ],
   "source": [
    "data = data.dropna()\n",
    "data.cause.value_counts()"
   ]
  },
  {
   "cell_type": "code",
   "execution_count": 14,
   "id": "62fbef0f",
   "metadata": {},
   "outputs": [
    {
     "data": {
      "text/plain": [
       "Gunshot              381\n",
       "Taser                 26\n",
       "Death in custody      14\n",
       "Struck by vehicle     12\n",
       "Name: cause, dtype: int64"
      ]
     },
     "execution_count": 14,
     "metadata": {},
     "output_type": "execute_result"
    }
   ],
   "source": [
    "data = data[data.cause != 'Unknown']\n",
    "data.cause.value_counts()"
   ]
  },
  {
   "cell_type": "markdown",
   "id": "93363933",
   "metadata": {},
   "source": [
    "### Split dataset"
   ]
  },
  {
   "cell_type": "code",
   "execution_count": 15,
   "id": "2d89c59f",
   "metadata": {},
   "outputs": [
    {
     "name": "stdout",
     "output_type": "stream",
     "text": [
      "(303, 34) (130, 34)\n"
     ]
    }
   ],
   "source": [
    "trainset, testset = TTS(data, test_size = 0.3, stratify = data['cause'], random_state = 42)\n",
    "print(trainset.shape, testset.shape)"
   ]
  },
  {
   "cell_type": "markdown",
   "id": "b44e4008",
   "metadata": {},
   "source": [
    "### Decision Tree Regressor"
   ]
  },
  {
   "cell_type": "code",
   "execution_count": 17,
   "id": "4f099112",
   "metadata": {},
   "outputs": [
    {
     "data": {
      "text/plain": [
       "DecisionTreeRegressor(max_depth=2)"
      ]
     },
     "execution_count": 17,
     "metadata": {},
     "output_type": "execute_result"
    }
   ],
   "source": [
    "dtr = DTRegressor(max_depth = 2)\n",
    "dtr.fit(trainset[['urate']], trainset['college'])"
   ]
  },
  {
   "cell_type": "markdown",
   "id": "e6207124",
   "metadata": {},
   "source": [
    "### Predictions"
   ]
  },
  {
   "cell_type": "code",
   "execution_count": 22,
   "id": "561a5070",
   "metadata": {},
   "outputs": [
    {
     "data": {
      "text/plain": [
       "{0.1416790510814815: 135,\n",
       " 0.19402222275: 4,\n",
       " 0.23850628440517238: 116,\n",
       " 0.4251190853333335: 48}"
      ]
     },
     "execution_count": 22,
     "metadata": {},
     "output_type": "execute_result"
    }
   ],
   "source": [
    "predictionsTrain = dtr.predict(trainset[['urate']])\n",
    "\n",
    "unique, counts = numpy.unique(predictionsTrain, return_counts = True)\n",
    "dict(zip(unique, counts))"
   ]
  },
  {
   "cell_type": "markdown",
   "id": "c3bf906f",
   "metadata": {},
   "source": [
    "predictionsTest = dtr.predict(testset[['urate']])\n",
    "\n",
    "unique, counts = numpy.unique(predictionsTest, return_counts = True)\n",
    "dict(zip(unique, counts))"
   ]
  },
  {
   "cell_type": "markdown",
   "id": "e59b3db2",
   "metadata": {},
   "source": [
    "### RMSE (Root Mean Square Error)"
   ]
  },
  {
   "cell_type": "code",
   "execution_count": 24,
   "id": "682c8e8e",
   "metadata": {},
   "outputs": [],
   "source": [
    "def calculate_rmse(predictions, actuals):\n",
    "    if(len(predictions) != len(actuals)):\n",
    "        raise Exception(\"The amount of predictions did not equal the amount of actuals\")\n",
    "\n",
    "    return (((predictions - actuals) ** 2).sum() / len(actuals)) ** (1/2)"
   ]
  },
  {
   "cell_type": "code",
   "execution_count": 25,
   "id": "546e24cf",
   "metadata": {},
   "outputs": [
    {
     "name": "stdout",
     "output_type": "stream",
     "text": [
      "RMSE on training set 0.13091104351331695\n",
      "RMSE on test set 0.14556221330935235\n"
     ]
    }
   ],
   "source": [
    "predictionsOnTrainset = dtr.predict(trainset[['urate']])\n",
    "predictionsOnTestset = dtr.predict(testset[['urate']])\n",
    "\n",
    "rmseTrain = calculate_rmse(predictionsOnTrainset, trainset.college)\n",
    "rmseTest = calculate_rmse(predictionsOnTestset, testset.college)\n",
    "\n",
    "print(\"RMSE on training set \" + str(rmseTrain))\n",
    "print(\"RMSE on test set \" + str(rmseTest))"
   ]
  },
  {
   "cell_type": "markdown",
   "id": "40d8b904",
   "metadata": {},
   "source": [
    "There is a difference, but its not very big"
   ]
  },
  {
   "cell_type": "markdown",
   "id": "a1a8d1de",
   "metadata": {},
   "source": [
    "### Decision Tree"
   ]
  },
  {
   "cell_type": "code",
   "execution_count": 27,
   "id": "d8b00d65",
   "metadata": {},
   "outputs": [
    {
     "data": {
      "image/svg+xml": [
       "<?xml version=\"1.0\" encoding=\"UTF-8\" standalone=\"no\"?>\r\n",
       "<!DOCTYPE svg PUBLIC \"-//W3C//DTD SVG 1.1//EN\"\r\n",
       " \"http://www.w3.org/Graphics/SVG/1.1/DTD/svg11.dtd\">\r\n",
       "<!-- Generated by graphviz version 2.38.0 (20140413.2041)\r\n",
       " -->\r\n",
       "<!-- Title: Tree Pages: 1 -->\r\n",
       "<svg width=\"698pt\" height=\"269pt\"\r\n",
       " viewBox=\"0.00 0.00 698.00 269.00\" xmlns=\"http://www.w3.org/2000/svg\" xmlns:xlink=\"http://www.w3.org/1999/xlink\">\r\n",
       "<g id=\"graph0\" class=\"graph\" transform=\"scale(1 1) rotate(0) translate(4 265)\">\r\n",
       "<title>Tree</title>\r\n",
       "<polygon fill=\"white\" stroke=\"none\" points=\"-4,4 -4,-265 694,-265 694,4 -4,4\"/>\r\n",
       "<!-- 0 -->\r\n",
       "<g id=\"node1\" class=\"node\"><title>0</title>\r\n",
       "<path fill=\"#f7dac5\" stroke=\"black\" d=\"M412,-261C412,-261 277,-261 277,-261 271,-261 265,-255 265,-249 265,-249 265,-205 265,-205 265,-199 271,-193 277,-193 277,-193 412,-193 412,-193 418,-193 424,-199 424,-205 424,-205 424,-249 424,-249 424,-255 418,-261 412,-261\"/>\r\n",
       "<text text-anchor=\"start\" x=\"302.5\" y=\"-245.8\" font-family=\"Helvetica,sans-Serif\" font-size=\"14.00\">urate ≤ 0.058</text>\r\n",
       "<text text-anchor=\"start\" x=\"273\" y=\"-230.8\" font-family=\"Helvetica,sans-Serif\" font-size=\"14.00\">squared_error = 0.027</text>\r\n",
       "<text text-anchor=\"start\" x=\"297\" y=\"-215.8\" font-family=\"Helvetica,sans-Serif\" font-size=\"14.00\">samples = 303</text>\r\n",
       "<text text-anchor=\"start\" x=\"301.5\" y=\"-200.8\" font-family=\"Helvetica,sans-Serif\" font-size=\"14.00\">value = 0.224</text>\r\n",
       "</g>\r\n",
       "<!-- 1 -->\r\n",
       "<g id=\"node2\" class=\"node\"><title>1</title>\r\n",
       "<path fill=\"#e78945\" stroke=\"black\" d=\"M324,-157C324,-157 189,-157 189,-157 183,-157 177,-151 177,-145 177,-145 177,-101 177,-101 177,-95 183,-89 189,-89 189,-89 324,-89 324,-89 330,-89 336,-95 336,-101 336,-101 336,-145 336,-145 336,-151 330,-157 324,-157\"/>\r\n",
       "<text text-anchor=\"start\" x=\"214.5\" y=\"-141.8\" font-family=\"Helvetica,sans-Serif\" font-size=\"14.00\">urate ≤ 0.019</text>\r\n",
       "<text text-anchor=\"start\" x=\"185\" y=\"-126.8\" font-family=\"Helvetica,sans-Serif\" font-size=\"14.00\">squared_error = 0.045</text>\r\n",
       "<text text-anchor=\"start\" x=\"213\" y=\"-111.8\" font-family=\"Helvetica,sans-Serif\" font-size=\"14.00\">samples = 52</text>\r\n",
       "<text text-anchor=\"start\" x=\"213.5\" y=\"-96.8\" font-family=\"Helvetica,sans-Serif\" font-size=\"14.00\">value = 0.407</text>\r\n",
       "</g>\r\n",
       "<!-- 0&#45;&gt;1 -->\r\n",
       "<g id=\"edge1\" class=\"edge\"><title>0&#45;&gt;1</title>\r\n",
       "<path fill=\"none\" stroke=\"black\" d=\"M315.929,-192.884C308.244,-183.976 299.84,-174.235 291.835,-164.957\"/>\r\n",
       "<polygon fill=\"black\" stroke=\"black\" points=\"294.411,-162.585 285.229,-157.299 289.111,-167.157 294.411,-162.585\"/>\r\n",
       "<text text-anchor=\"middle\" x=\"283.392\" y=\"-178.532\" font-family=\"Helvetica,sans-Serif\" font-size=\"14.00\">True</text>\r\n",
       "</g>\r\n",
       "<!-- 4 -->\r\n",
       "<g id=\"node5\" class=\"node\"><title>4</title>\r\n",
       "<path fill=\"#fbebe0\" stroke=\"black\" d=\"M501,-157C501,-157 366,-157 366,-157 360,-157 354,-151 354,-145 354,-145 354,-101 354,-101 354,-95 360,-89 366,-89 366,-89 501,-89 501,-89 507,-89 513,-95 513,-101 513,-101 513,-145 513,-145 513,-151 507,-157 501,-157\"/>\r\n",
       "<text text-anchor=\"start\" x=\"391.5\" y=\"-141.8\" font-family=\"Helvetica,sans-Serif\" font-size=\"14.00\">urate ≤ 0.112</text>\r\n",
       "<text text-anchor=\"start\" x=\"362\" y=\"-126.8\" font-family=\"Helvetica,sans-Serif\" font-size=\"14.00\">squared_error = 0.014</text>\r\n",
       "<text text-anchor=\"start\" x=\"386\" y=\"-111.8\" font-family=\"Helvetica,sans-Serif\" font-size=\"14.00\">samples = 251</text>\r\n",
       "<text text-anchor=\"start\" x=\"390.5\" y=\"-96.8\" font-family=\"Helvetica,sans-Serif\" font-size=\"14.00\">value = 0.186</text>\r\n",
       "</g>\r\n",
       "<!-- 0&#45;&gt;4 -->\r\n",
       "<g id=\"edge4\" class=\"edge\"><title>0&#45;&gt;4</title>\r\n",
       "<path fill=\"none\" stroke=\"black\" d=\"M373.396,-192.884C381.168,-183.976 389.667,-174.235 397.763,-164.957\"/>\r\n",
       "<polygon fill=\"black\" stroke=\"black\" points=\"400.507,-167.135 404.445,-157.299 395.233,-162.533 400.507,-167.135\"/>\r\n",
       "<text text-anchor=\"middle\" x=\"406.142\" y=\"-178.542\" font-family=\"Helvetica,sans-Serif\" font-size=\"14.00\">False</text>\r\n",
       "</g>\r\n",
       "<!-- 2 -->\r\n",
       "<g id=\"node3\" class=\"node\"><title>2</title>\r\n",
       "<path fill=\"#fae8da\" stroke=\"black\" d=\"M147,-53C147,-53 12,-53 12,-53 6,-53 0,-47 0,-41 0,-41 0,-12 0,-12 0,-6 6,-0 12,-0 12,-0 147,-0 147,-0 153,-0 159,-6 159,-12 159,-12 159,-41 159,-41 159,-47 153,-53 147,-53\"/>\r\n",
       "<text text-anchor=\"start\" x=\"8\" y=\"-37.8\" font-family=\"Helvetica,sans-Serif\" font-size=\"14.00\">squared_error = 0.019</text>\r\n",
       "<text text-anchor=\"start\" x=\"40\" y=\"-22.8\" font-family=\"Helvetica,sans-Serif\" font-size=\"14.00\">samples = 4</text>\r\n",
       "<text text-anchor=\"start\" x=\"36.5\" y=\"-7.8\" font-family=\"Helvetica,sans-Serif\" font-size=\"14.00\">value = 0.194</text>\r\n",
       "</g>\r\n",
       "<!-- 1&#45;&gt;2 -->\r\n",
       "<g id=\"edge2\" class=\"edge\"><title>1&#45;&gt;2</title>\r\n",
       "<path fill=\"none\" stroke=\"black\" d=\"M194.594,-88.9485C175.661,-78.8399 154.937,-67.7756 136.356,-57.8555\"/>\r\n",
       "<polygon fill=\"black\" stroke=\"black\" points=\"137.894,-54.709 127.424,-53.0867 134.597,-60.884 137.894,-54.709\"/>\r\n",
       "</g>\r\n",
       "<!-- 3 -->\r\n",
       "<g id=\"node4\" class=\"node\"><title>3</title>\r\n",
       "<path fill=\"#e58139\" stroke=\"black\" d=\"M324,-53C324,-53 189,-53 189,-53 183,-53 177,-47 177,-41 177,-41 177,-12 177,-12 177,-6 183,-0 189,-0 189,-0 324,-0 324,-0 330,-0 336,-6 336,-12 336,-12 336,-41 336,-41 336,-47 330,-53 324,-53\"/>\r\n",
       "<text text-anchor=\"start\" x=\"185\" y=\"-37.8\" font-family=\"Helvetica,sans-Serif\" font-size=\"14.00\">squared_error = 0.043</text>\r\n",
       "<text text-anchor=\"start\" x=\"213\" y=\"-22.8\" font-family=\"Helvetica,sans-Serif\" font-size=\"14.00\">samples = 48</text>\r\n",
       "<text text-anchor=\"start\" x=\"213.5\" y=\"-7.8\" font-family=\"Helvetica,sans-Serif\" font-size=\"14.00\">value = 0.425</text>\r\n",
       "</g>\r\n",
       "<!-- 1&#45;&gt;3 -->\r\n",
       "<g id=\"edge3\" class=\"edge\"><title>1&#45;&gt;3</title>\r\n",
       "<path fill=\"none\" stroke=\"black\" d=\"M256.5,-88.9485C256.5,-80.7153 256.5,-71.848 256.5,-63.4814\"/>\r\n",
       "<polygon fill=\"black\" stroke=\"black\" points=\"260,-63.2367 256.5,-53.2367 253,-63.2367 260,-63.2367\"/>\r\n",
       "</g>\r\n",
       "<!-- 5 -->\r\n",
       "<g id=\"node6\" class=\"node\"><title>5</title>\r\n",
       "<path fill=\"#f6d4bb\" stroke=\"black\" d=\"M501,-53C501,-53 366,-53 366,-53 360,-53 354,-47 354,-41 354,-41 354,-12 354,-12 354,-6 360,-0 366,-0 366,-0 501,-0 501,-0 507,-0 513,-6 513,-12 513,-12 513,-41 513,-41 513,-47 507,-53 501,-53\"/>\r\n",
       "<text text-anchor=\"start\" x=\"362\" y=\"-37.8\" font-family=\"Helvetica,sans-Serif\" font-size=\"14.00\">squared_error = 0.017</text>\r\n",
       "<text text-anchor=\"start\" x=\"386\" y=\"-22.8\" font-family=\"Helvetica,sans-Serif\" font-size=\"14.00\">samples = 116</text>\r\n",
       "<text text-anchor=\"start\" x=\"390.5\" y=\"-7.8\" font-family=\"Helvetica,sans-Serif\" font-size=\"14.00\">value = 0.239</text>\r\n",
       "</g>\r\n",
       "<!-- 4&#45;&gt;5 -->\r\n",
       "<g id=\"edge5\" class=\"edge\"><title>4&#45;&gt;5</title>\r\n",
       "<path fill=\"none\" stroke=\"black\" d=\"M433.5,-88.9485C433.5,-80.7153 433.5,-71.848 433.5,-63.4814\"/>\r\n",
       "<polygon fill=\"black\" stroke=\"black\" points=\"437,-63.2367 433.5,-53.2367 430,-63.2367 437,-63.2367\"/>\r\n",
       "</g>\r\n",
       "<!-- 6 -->\r\n",
       "<g id=\"node7\" class=\"node\"><title>6</title>\r\n",
       "<path fill=\"#ffffff\" stroke=\"black\" d=\"M678,-53C678,-53 543,-53 543,-53 537,-53 531,-47 531,-41 531,-41 531,-12 531,-12 531,-6 537,-0 543,-0 543,-0 678,-0 678,-0 684,-0 690,-6 690,-12 690,-12 690,-41 690,-41 690,-47 684,-53 678,-53\"/>\r\n",
       "<text text-anchor=\"start\" x=\"539\" y=\"-37.8\" font-family=\"Helvetica,sans-Serif\" font-size=\"14.00\">squared_error = 0.008</text>\r\n",
       "<text text-anchor=\"start\" x=\"563\" y=\"-22.8\" font-family=\"Helvetica,sans-Serif\" font-size=\"14.00\">samples = 135</text>\r\n",
       "<text text-anchor=\"start\" x=\"567.5\" y=\"-7.8\" font-family=\"Helvetica,sans-Serif\" font-size=\"14.00\">value = 0.142</text>\r\n",
       "</g>\r\n",
       "<!-- 4&#45;&gt;6 -->\r\n",
       "<g id=\"edge6\" class=\"edge\"><title>4&#45;&gt;6</title>\r\n",
       "<path fill=\"none\" stroke=\"black\" d=\"M495.406,-88.9485C514.339,-78.8399 535.063,-67.7756 553.644,-57.8555\"/>\r\n",
       "<polygon fill=\"black\" stroke=\"black\" points=\"555.403,-60.884 562.576,-53.0867 552.106,-54.709 555.403,-60.884\"/>\r\n",
       "</g>\r\n",
       "</g>\r\n",
       "</svg>\r\n"
      ],
      "text/plain": [
       "<graphviz.files.Source at 0x247de551af0>"
      ]
     },
     "execution_count": 27,
     "metadata": {},
     "output_type": "execute_result"
    }
   ],
   "source": [
    "dot_data = tree.export_graphviz(\n",
    "        dtr,\n",
    "        out_file = None,\n",
    "        feature_names = ['urate'],\n",
    "        filled = True,\n",
    "        rounded = True,\n",
    "        special_characters = True\n",
    "    )\n",
    "\n",
    "graph = graphviz.Source(dot_data)\n",
    "\n",
    "graph.render('decision_tree')\n",
    "\n",
    "graph"
   ]
  },
  {
   "cell_type": "code",
   "execution_count": null,
   "id": "2c553e34",
   "metadata": {},
   "outputs": [],
   "source": []
  }
 ],
 "metadata": {
  "kernelspec": {
   "display_name": "Python 3 (ipykernel)",
   "language": "python",
   "name": "python3"
  },
  "language_info": {
   "codemirror_mode": {
    "name": "ipython",
    "version": 3
   },
   "file_extension": ".py",
   "mimetype": "text/x-python",
   "name": "python",
   "nbconvert_exporter": "python",
   "pygments_lexer": "ipython3",
   "version": "3.8.12"
  }
 },
 "nbformat": 4,
 "nbformat_minor": 5
}
