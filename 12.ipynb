{
 "cells": [
  {
   "cell_type": "markdown",
   "id": "30147039",
   "metadata": {},
   "source": [
    "# Portfolio assignment 12\n",
    "Perform a bivariate analysis on at least 3 combinations of a numerical column with a categorical column in the dataset that you chose in portfolio assignment 4. Use <em>.groupby('columnname').mean()</em> to calculate the means. Is there a difference between categories? Then use seaborn barplots to check if there is a statistically significant difference."
   ]
  },
  {
   "cell_type": "code",
   "execution_count": 1,
   "id": "62c049f5",
   "metadata": {},
   "outputs": [],
   "source": [
    "import pandas as pd\n",
    "pd.options.mode.chained_assignment = None\n",
    "\n",
    "import seaborn as sns"
   ]
  },
  {
   "cell_type": "code",
   "execution_count": 2,
   "id": "c5265ea5",
   "metadata": {},
   "outputs": [
    {
     "data": {
      "text/plain": [
       "(467, 34)"
      ]
     },
     "execution_count": 2,
     "metadata": {},
     "output_type": "execute_result"
    }
   ],
   "source": [
    "data = pd.read_csv('4.data.txt')\n",
    "data.shape"
   ]
  },
  {
   "cell_type": "markdown",
   "id": "221f78bb",
   "metadata": {},
   "source": [
    "### Include age, p_income and pov"
   ]
  },
  {
   "cell_type": "code",
   "execution_count": 3,
   "id": "57b45bb6",
   "metadata": {},
   "outputs": [],
   "source": [
    "data = data[data.age !=  'Unknown']\n",
    "data['age'] = data.age.astype(float)"
   ]
  },
  {
   "cell_type": "code",
   "execution_count": 4,
   "id": "b039ae62",
   "metadata": {},
   "outputs": [],
   "source": [
    "data = data[data.p_income !=  '-']\n",
    "data['p_income'] = data.p_income.astype(float)"
   ]
  },
  {
   "cell_type": "code",
   "execution_count": 5,
   "id": "dfe65230",
   "metadata": {},
   "outputs": [],
   "source": [
    "data = data[data.pov !=  '-']\n",
    "data['pov'] = data.pov.astype(float)"
   ]
  },
  {
   "cell_type": "markdown",
   "id": "264b22ea",
   "metadata": {},
   "source": [
    "### Means of column Gender"
   ]
  },
  {
   "cell_type": "code",
   "execution_count": 6,
   "id": "b47c82bc",
   "metadata": {},
   "outputs": [
    {
     "data": {
      "text/html": [
       "<div>\n",
       "<style scoped>\n",
       "    .dataframe tbody tr th:only-of-type {\n",
       "        vertical-align: middle;\n",
       "    }\n",
       "\n",
       "    .dataframe tbody tr th {\n",
       "        vertical-align: top;\n",
       "    }\n",
       "\n",
       "    .dataframe thead th {\n",
       "        text-align: right;\n",
       "    }\n",
       "</style>\n",
       "<table border=\"1\" class=\"dataframe\">\n",
       "  <thead>\n",
       "    <tr style=\"text-align: right;\">\n",
       "      <th></th>\n",
       "      <th>age</th>\n",
       "      <th>day</th>\n",
       "      <th>year</th>\n",
       "      <th>latitude</th>\n",
       "      <th>longitude</th>\n",
       "      <th>state_fp</th>\n",
       "      <th>county_fp</th>\n",
       "      <th>tract_ce</th>\n",
       "      <th>geo_id</th>\n",
       "      <th>county_id</th>\n",
       "      <th>pop</th>\n",
       "      <th>p_income</th>\n",
       "      <th>h_income</th>\n",
       "      <th>county_income</th>\n",
       "      <th>comp_income</th>\n",
       "      <th>county_bucket</th>\n",
       "      <th>nat_bucket</th>\n",
       "      <th>pov</th>\n",
       "      <th>urate</th>\n",
       "      <th>college</th>\n",
       "    </tr>\n",
       "    <tr>\n",
       "      <th>gender</th>\n",
       "      <th></th>\n",
       "      <th></th>\n",
       "      <th></th>\n",
       "      <th></th>\n",
       "      <th></th>\n",
       "      <th></th>\n",
       "      <th></th>\n",
       "      <th></th>\n",
       "      <th></th>\n",
       "      <th></th>\n",
       "      <th></th>\n",
       "      <th></th>\n",
       "      <th></th>\n",
       "      <th></th>\n",
       "      <th></th>\n",
       "      <th></th>\n",
       "      <th></th>\n",
       "      <th></th>\n",
       "      <th></th>\n",
       "      <th></th>\n",
       "    </tr>\n",
       "  </thead>\n",
       "  <tbody>\n",
       "    <tr>\n",
       "      <th>Female</th>\n",
       "      <td>35.571429</td>\n",
       "      <td>18.904762</td>\n",
       "      <td>2015.0</td>\n",
       "      <td>36.926622</td>\n",
       "      <td>-99.142006</td>\n",
       "      <td>21.095238</td>\n",
       "      <td>60.428571</td>\n",
       "      <td>110688.000000</td>\n",
       "      <td>2.115578e+10</td>\n",
       "      <td>21155.666667</td>\n",
       "      <td>4511.142857</td>\n",
       "      <td>25443.000000</td>\n",
       "      <td>55483.095238</td>\n",
       "      <td>62664.904762</td>\n",
       "      <td>0.879604</td>\n",
       "      <td>2.285714</td>\n",
       "      <td>2.952381</td>\n",
       "      <td>19.347619</td>\n",
       "      <td>0.114175</td>\n",
       "      <td>0.297701</td>\n",
       "    </tr>\n",
       "    <tr>\n",
       "      <th>Male</th>\n",
       "      <td>37.386364</td>\n",
       "      <td>15.697727</td>\n",
       "      <td>2015.0</td>\n",
       "      <td>36.426497</td>\n",
       "      <td>-96.926090</td>\n",
       "      <td>25.315909</td>\n",
       "      <td>90.452273</td>\n",
       "      <td>234707.384091</td>\n",
       "      <td>2.540660e+10</td>\n",
       "      <td>25406.361364</td>\n",
       "      <td>4789.725000</td>\n",
       "      <td>24256.920455</td>\n",
       "      <td>46163.825000</td>\n",
       "      <td>52117.520455</td>\n",
       "      <td>0.894652</td>\n",
       "      <td>2.489157</td>\n",
       "      <td>2.470455</td>\n",
       "      <td>21.224545</td>\n",
       "      <td>0.118054</td>\n",
       "      <td>0.217619</td>\n",
       "    </tr>\n",
       "  </tbody>\n",
       "</table>\n",
       "</div>"
      ],
      "text/plain": [
       "              age        day    year   latitude  longitude   state_fp  \\\n",
       "gender                                                                  \n",
       "Female  35.571429  18.904762  2015.0  36.926622 -99.142006  21.095238   \n",
       "Male    37.386364  15.697727  2015.0  36.426497 -96.926090  25.315909   \n",
       "\n",
       "        county_fp       tract_ce        geo_id     county_id          pop  \\\n",
       "gender                                                                      \n",
       "Female  60.428571  110688.000000  2.115578e+10  21155.666667  4511.142857   \n",
       "Male    90.452273  234707.384091  2.540660e+10  25406.361364  4789.725000   \n",
       "\n",
       "            p_income      h_income  county_income  comp_income  county_bucket  \\\n",
       "gender                                                                          \n",
       "Female  25443.000000  55483.095238   62664.904762     0.879604       2.285714   \n",
       "Male    24256.920455  46163.825000   52117.520455     0.894652       2.489157   \n",
       "\n",
       "        nat_bucket        pov     urate   college  \n",
       "gender                                             \n",
       "Female    2.952381  19.347619  0.114175  0.297701  \n",
       "Male      2.470455  21.224545  0.118054  0.217619  "
      ]
     },
     "execution_count": 6,
     "metadata": {},
     "output_type": "execute_result"
    }
   ],
   "source": [
    "data.groupby('gender').mean()"
   ]
  },
  {
   "cell_type": "markdown",
   "id": "a5fe7144",
   "metadata": {},
   "source": [
    "Most of the numbers above are meaningless. Calculating the mean from id's like geo_id, county_id or state_fp does not result in useful data. But let's take a look at the interesting fields.\n",
    "\n",
    "*The numbers below are rounded\n",
    "- Between male and female is the age quite close: 35.6 and 37.5. \n",
    "- They come from tracts with nearly identical population: 4500 and 4800 inhabitants.\n",
    "- There personal income does not differ much, both genders around \\\\$25.000 with a max deviation of \\\\$750.\n",
    "- There is a surpisingly big difference in there household income: \\\\$55.500 and \\\\$46.200. \n",
    "- Female victims come from tracts with a higher college degree"
   ]
  },
  {
   "cell_type": "markdown",
   "id": "6ddc2420",
   "metadata": {},
   "source": [
    "### Barplots"
   ]
  },
  {
   "cell_type": "code",
   "execution_count": 7,
   "id": "f1fdf69e",
   "metadata": {},
   "outputs": [
    {
     "data": {
      "text/plain": [
       "<AxesSubplot:xlabel='gender', ylabel='age'>"
      ]
     },
     "execution_count": 7,
     "metadata": {},
     "output_type": "execute_result"
    },
    {
     "data": {
      "image/png": "[encoded data removed]",
      "text/plain": [
       "<Figure size 432x288 with 1 Axes>"
      ]
     },
     "metadata": {
      "needs_background": "light"
     },
     "output_type": "display_data"
    }
   ],
   "source": [
    "sns.barplot(ci=95, x='gender', y='age', data=data)"
   ]
  },
  {
   "cell_type": "markdown",
   "id": "bff7da01",
   "metadata": {},
   "source": [
    "In this barplot the confidence interval immediately stands out. It could be that the age of female victims has a broader range than the male victims, but the mean is both between 35 and 40, which is not far apart. \n",
    "\n",
    "My guess here is the amount of data. We have 467 data points, but maybe we have more data of male victims than of female victims. Let's test this."
   ]
  },
  {
   "cell_type": "code",
   "execution_count": 8,
   "id": "d76c57e9",
   "metadata": {},
   "outputs": [
    {
     "data": {
      "text/plain": [
       "gender\n",
       "Female     21\n",
       "Male      440\n",
       "dtype: int64"
      ]
     },
     "execution_count": 8,
     "metadata": {},
     "output_type": "execute_result"
    }
   ],
   "source": [
    "data.groupby('gender').size()"
   ]
  },
  {
   "cell_type": "markdown",
   "id": "928f29c6",
   "metadata": {},
   "source": [
    "The theory proved true, we have way more male victims than female. So we the female confidence interval wil have a higher range in all coming barplots."
   ]
  },
  {
   "cell_type": "markdown",
   "id": "f465ddec",
   "metadata": {},
   "source": [
    "#### Tract-level household income"
   ]
  },
  {
   "cell_type": "code",
   "execution_count": 12,
   "id": "e4380211",
   "metadata": {},
   "outputs": [
    {
     "data": {
      "text/plain": [
       "<AxesSubplot:xlabel='gender', ylabel='h_income'>"
      ]
     },
     "execution_count": 12,
     "metadata": {},
     "output_type": "execute_result"
    },
    {
     "data": {
      "image/png": "[encoded data removed]",
      "text/plain": [
       "<Figure size 432x288 with 1 Axes>"
      ]
     },
     "metadata": {
      "needs_background": "light"
     },
     "output_type": "display_data"
    }
   ],
   "source": [
    "sns.barplot(ci=95, x='gender', y='h_income', data=data)"
   ]
  },
  {
   "cell_type": "markdown",
   "id": "08f1959c",
   "metadata": {},
   "source": [
    "It looks like female  victims come from an household with, on average, a higher income. But because the confidence intervals overlap we cannot be sure about how big the difference is. "
   ]
  },
  {
   "cell_type": "markdown",
   "id": "529b454e",
   "metadata": {},
   "source": [
    "#### Share of 25+ pop with BA or higher\t"
   ]
  },
  {
   "cell_type": "code",
   "execution_count": 11,
   "id": "f868e6ac",
   "metadata": {},
   "outputs": [
    {
     "data": {
      "text/plain": [
       "<AxesSubplot:xlabel='gender', ylabel='college'>"
      ]
     },
     "execution_count": 11,
     "metadata": {},
     "output_type": "execute_result"
    },
    {
     "data": {
      "image/png": "[encoded data removed]",
      "text/plain": [
       "<Figure size 432x288 with 1 Axes>"
      ]
     },
     "metadata": {
      "needs_background": "light"
     },
     "output_type": "display_data"
    }
   ],
   "source": [
    "sns.barplot(ci=95, x='gender', y='college', data=data)"
   ]
  },
  {
   "cell_type": "markdown",
   "id": "b53cd3e2",
   "metadata": {},
   "source": [
    "The female victims come from tracts with a higher education degree. Again, because of the long confidence interval, we cannot say something about how big the difference is.\n",
    "\n",
    "If we compare this barplot with the previous results it looks like policeofficers target rich and educated woman. But maybe they drive better cars and are therefore more likely to be targeted by police? Or do they take more risk in general? Maybe this data just is not correct, I have no clue."
   ]
  },
  {
   "cell_type": "code",
   "execution_count": null,
   "id": "ad096eec",
   "metadata": {},
   "outputs": [],
   "source": []
  }
 ],
 "metadata": {
  "kernelspec": {
   "display_name": "Python 3 (ipykernel)",
   "language": "python",
   "name": "python3"
  },
  "language_info": {
   "codemirror_mode": {
    "name": "ipython",
    "version": 3
   },
   "file_extension": ".py",
   "mimetype": "text/x-python",
   "name": "python",
   "nbconvert_exporter": "python",
   "pygments_lexer": "ipython3",
   "version": "3.8.12"
  }
 },
 "nbformat": 4,
 "nbformat_minor": 5
}
