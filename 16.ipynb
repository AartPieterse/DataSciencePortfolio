{
 "cells": [
  {
   "cell_type": "markdown",
   "id": "10aa504f",
   "metadata": {},
   "source": [
    "## Portfolio assignment 16\n",
    "30 min: Train a decision tree to predict one of the categorical columns of your own dataset.\n",
    "- Split your dataset into a train (70%) and test (30%) set.\n",
    "- Use the train set to fit a DecisionTreeClassifier. You are free to to choose which columns you want to use as feature variables and you are also free to choose the max_depth of the tree. \n",
    "- Use your decision tree model to make predictions for both the train and test set.\n",
    "- Calculate the accuracy for both the train set predictions and test set predictions.\n",
    "- Is the accurracy different? Did you expect this difference?\n",
    "- Use the plot_tree function above to create a plot of the decision tree. Take a few minutes to analyse the decision tree. Do you understand the tree?"
   ]
  },
  {
   "cell_type": "code",
   "execution_count": 1,
   "id": "a0ab6e60",
   "metadata": {},
   "outputs": [],
   "source": [
    "import pandas as pd\n",
    "\n",
    "from sklearn.tree import DecisionTreeClassifier as DTClassifier\n",
    "from sklearn.model_selection import train_test_split as TTS\n",
    "\n",
    "import graphviz"
   ]
  },
  {
   "cell_type": "code",
   "execution_count": 2,
   "id": "84f6bd6b",
   "metadata": {},
   "outputs": [
    {
     "data": {
      "text/plain": [
       "(467, 34)"
      ]
     },
     "execution_count": 2,
     "metadata": {},
     "output_type": "execute_result"
    }
   ],
   "source": [
    "data = pd.read_csv('4.data.txt')\n",
    "data.shape"
   ]
  },
  {
   "cell_type": "code",
   "execution_count": 3,
   "id": "014c9cc0",
   "metadata": {},
   "outputs": [
    {
     "data": {
      "text/html": [
       "<div>\n",
       "<style scoped>\n",
       "    .dataframe tbody tr th:only-of-type {\n",
       "        vertical-align: middle;\n",
       "    }\n",
       "\n",
       "    .dataframe tbody tr th {\n",
       "        vertical-align: top;\n",
       "    }\n",
       "\n",
       "    .dataframe thead th {\n",
       "        text-align: right;\n",
       "    }\n",
       "</style>\n",
       "<table border=\"1\" class=\"dataframe\">\n",
       "  <thead>\n",
       "    <tr style=\"text-align: right;\">\n",
       "      <th></th>\n",
       "      <th>name</th>\n",
       "      <th>age</th>\n",
       "      <th>gender</th>\n",
       "      <th>raceethnicity</th>\n",
       "      <th>month</th>\n",
       "      <th>day</th>\n",
       "      <th>year</th>\n",
       "      <th>streetaddress</th>\n",
       "      <th>city</th>\n",
       "      <th>state</th>\n",
       "      <th>...</th>\n",
       "      <th>share_hispanic</th>\n",
       "      <th>p_income</th>\n",
       "      <th>h_income</th>\n",
       "      <th>county_income</th>\n",
       "      <th>comp_income</th>\n",
       "      <th>county_bucket</th>\n",
       "      <th>nat_bucket</th>\n",
       "      <th>pov</th>\n",
       "      <th>urate</th>\n",
       "      <th>college</th>\n",
       "    </tr>\n",
       "  </thead>\n",
       "  <tbody>\n",
       "    <tr>\n",
       "      <th>0</th>\n",
       "      <td>A'donte Washington</td>\n",
       "      <td>16</td>\n",
       "      <td>Male</td>\n",
       "      <td>Black</td>\n",
       "      <td>February</td>\n",
       "      <td>23</td>\n",
       "      <td>2015</td>\n",
       "      <td>Clearview Ln</td>\n",
       "      <td>Millbrook</td>\n",
       "      <td>AL</td>\n",
       "      <td>...</td>\n",
       "      <td>5.6</td>\n",
       "      <td>28375</td>\n",
       "      <td>51367.0</td>\n",
       "      <td>54766</td>\n",
       "      <td>0.937936</td>\n",
       "      <td>3.0</td>\n",
       "      <td>3.0</td>\n",
       "      <td>14.1</td>\n",
       "      <td>0.097686</td>\n",
       "      <td>0.168510</td>\n",
       "    </tr>\n",
       "    <tr>\n",
       "      <th>1</th>\n",
       "      <td>Aaron Rutledge</td>\n",
       "      <td>27</td>\n",
       "      <td>Male</td>\n",
       "      <td>White</td>\n",
       "      <td>April</td>\n",
       "      <td>2</td>\n",
       "      <td>2015</td>\n",
       "      <td>300 block Iris Park Dr</td>\n",
       "      <td>Pineville</td>\n",
       "      <td>LA</td>\n",
       "      <td>...</td>\n",
       "      <td>0.5</td>\n",
       "      <td>14678</td>\n",
       "      <td>27972.0</td>\n",
       "      <td>40930</td>\n",
       "      <td>0.683411</td>\n",
       "      <td>2.0</td>\n",
       "      <td>1.0</td>\n",
       "      <td>28.8</td>\n",
       "      <td>0.065724</td>\n",
       "      <td>0.111402</td>\n",
       "    </tr>\n",
       "    <tr>\n",
       "      <th>2</th>\n",
       "      <td>Aaron Siler</td>\n",
       "      <td>26</td>\n",
       "      <td>Male</td>\n",
       "      <td>White</td>\n",
       "      <td>March</td>\n",
       "      <td>14</td>\n",
       "      <td>2015</td>\n",
       "      <td>22nd Ave and 56th St</td>\n",
       "      <td>Kenosha</td>\n",
       "      <td>WI</td>\n",
       "      <td>...</td>\n",
       "      <td>16.8</td>\n",
       "      <td>25286</td>\n",
       "      <td>45365.0</td>\n",
       "      <td>54930</td>\n",
       "      <td>0.825869</td>\n",
       "      <td>2.0</td>\n",
       "      <td>3.0</td>\n",
       "      <td>14.6</td>\n",
       "      <td>0.166293</td>\n",
       "      <td>0.147312</td>\n",
       "    </tr>\n",
       "    <tr>\n",
       "      <th>3</th>\n",
       "      <td>Aaron Valdez</td>\n",
       "      <td>25</td>\n",
       "      <td>Male</td>\n",
       "      <td>Hispanic/Latino</td>\n",
       "      <td>March</td>\n",
       "      <td>11</td>\n",
       "      <td>2015</td>\n",
       "      <td>3000 Seminole Ave</td>\n",
       "      <td>South Gate</td>\n",
       "      <td>CA</td>\n",
       "      <td>...</td>\n",
       "      <td>98.8</td>\n",
       "      <td>17194</td>\n",
       "      <td>48295.0</td>\n",
       "      <td>55909</td>\n",
       "      <td>0.863814</td>\n",
       "      <td>3.0</td>\n",
       "      <td>3.0</td>\n",
       "      <td>11.7</td>\n",
       "      <td>0.124827</td>\n",
       "      <td>0.050133</td>\n",
       "    </tr>\n",
       "    <tr>\n",
       "      <th>4</th>\n",
       "      <td>Adam Jovicic</td>\n",
       "      <td>29</td>\n",
       "      <td>Male</td>\n",
       "      <td>White</td>\n",
       "      <td>March</td>\n",
       "      <td>19</td>\n",
       "      <td>2015</td>\n",
       "      <td>364 Hiwood Ave</td>\n",
       "      <td>Munroe Falls</td>\n",
       "      <td>OH</td>\n",
       "      <td>...</td>\n",
       "      <td>1.7</td>\n",
       "      <td>33954</td>\n",
       "      <td>68785.0</td>\n",
       "      <td>49669</td>\n",
       "      <td>1.384868</td>\n",
       "      <td>5.0</td>\n",
       "      <td>4.0</td>\n",
       "      <td>1.9</td>\n",
       "      <td>0.063550</td>\n",
       "      <td>0.403954</td>\n",
       "    </tr>\n",
       "  </tbody>\n",
       "</table>\n",
       "<p>5 rows × 34 columns</p>\n",
       "</div>"
      ],
      "text/plain": [
       "                 name age gender    raceethnicity     month  day  year  \\\n",
       "0  A'donte Washington  16   Male            Black  February   23  2015   \n",
       "1      Aaron Rutledge  27   Male            White     April    2  2015   \n",
       "2         Aaron Siler  26   Male            White     March   14  2015   \n",
       "3        Aaron Valdez  25   Male  Hispanic/Latino     March   11  2015   \n",
       "4        Adam Jovicic  29   Male            White     March   19  2015   \n",
       "\n",
       "            streetaddress          city state  ...  share_hispanic  p_income  \\\n",
       "0            Clearview Ln     Millbrook    AL  ...             5.6     28375   \n",
       "1  300 block Iris Park Dr     Pineville    LA  ...             0.5     14678   \n",
       "2    22nd Ave and 56th St       Kenosha    WI  ...            16.8     25286   \n",
       "3       3000 Seminole Ave    South Gate    CA  ...            98.8     17194   \n",
       "4          364 Hiwood Ave  Munroe Falls    OH  ...             1.7     33954   \n",
       "\n",
       "   h_income  county_income  comp_income  county_bucket  nat_bucket   pov  \\\n",
       "0   51367.0          54766     0.937936            3.0         3.0  14.1   \n",
       "1   27972.0          40930     0.683411            2.0         1.0  28.8   \n",
       "2   45365.0          54930     0.825869            2.0         3.0  14.6   \n",
       "3   48295.0          55909     0.863814            3.0         3.0  11.7   \n",
       "4   68785.0          49669     1.384868            5.0         4.0   1.9   \n",
       "\n",
       "      urate   college  \n",
       "0  0.097686  0.168510  \n",
       "1  0.065724  0.111402  \n",
       "2  0.166293  0.147312  \n",
       "3  0.124827  0.050133  \n",
       "4  0.063550  0.403954  \n",
       "\n",
       "[5 rows x 34 columns]"
      ]
     },
     "execution_count": 3,
     "metadata": {},
     "output_type": "execute_result"
    }
   ],
   "source": [
    "data.head()"
   ]
  },
  {
   "cell_type": "code",
   "execution_count": 4,
   "id": "c9cf2765",
   "metadata": {},
   "outputs": [
    {
     "data": {
      "text/plain": [
       "White                     236\n",
       "Black                     135\n",
       "Hispanic/Latino            67\n",
       "Unknown                    15\n",
       "Asian/Pacific Islander     10\n",
       "Native American             4\n",
       "Name: raceethnicity, dtype: int64"
      ]
     },
     "execution_count": 4,
     "metadata": {},
     "output_type": "execute_result"
    }
   ],
   "source": [
    "data.raceethnicity.value_counts()"
   ]
  },
  {
   "cell_type": "code",
   "execution_count": 5,
   "id": "ddca9507",
   "metadata": {},
   "outputs": [],
   "source": [
    "data = data.dropna()"
   ]
  },
  {
   "cell_type": "code",
   "execution_count": 6,
   "id": "648839b0",
   "metadata": {},
   "outputs": [
    {
     "data": {
      "text/plain": [
       "White                     216\n",
       "Black                     127\n",
       "Hispanic/Latino            65\n",
       "Unknown                    14\n",
       "Asian/Pacific Islander     10\n",
       "Native American             4\n",
       "Name: raceethnicity, dtype: int64"
      ]
     },
     "execution_count": 6,
     "metadata": {},
     "output_type": "execute_result"
    }
   ],
   "source": [
    "data.raceethnicity.value_counts()"
   ]
  },
  {
   "cell_type": "code",
   "execution_count": 7,
   "id": "6abc19fe",
   "metadata": {},
   "outputs": [],
   "source": [
    "# data = data[data.raceethnicity != 'Native American']"
   ]
  },
  {
   "cell_type": "markdown",
   "id": "de8fa1dc",
   "metadata": {},
   "source": [
    "### Split dataset"
   ]
  },
  {
   "cell_type": "code",
   "execution_count": 8,
   "id": "1527a342",
   "metadata": {},
   "outputs": [
    {
     "name": "stdout",
     "output_type": "stream",
     "text": [
      "(305, 34) (131, 34)\n"
     ]
    }
   ],
   "source": [
    "trainset, testset = TTS(data, test_size=0.3, stratify=data['raceethnicity'], random_state=42)\n",
    "print(trainset.shape, testset.shape)"
   ]
  },
  {
   "cell_type": "markdown",
   "id": "96df009b",
   "metadata": {},
   "source": [
    "### Decision Tree"
   ]
  },
  {
   "cell_type": "code",
   "execution_count": 9,
   "id": "69c94921",
   "metadata": {},
   "outputs": [
    {
     "data": {
      "text/plain": [
       "DecisionTreeClassifier(max_depth=3)"
      ]
     },
     "execution_count": 9,
     "metadata": {},
     "output_type": "execute_result"
    }
   ],
   "source": [
    "dt = DTClassifier(max_depth = 3)\n",
    "dt.fit(trainset[['pov']], trainset['raceethnicity'])"
   ]
  },
  {
   "cell_type": "code",
   "execution_count": 10,
   "id": "5fb7c9c4",
   "metadata": {},
   "outputs": [],
   "source": [
    "from sklearn import tree\n",
    "\n",
    "def plot_tree(model, features, class_names):\n",
    "    dot_data = tree.export_graphviz(\n",
    "        model,\n",
    "        out_file = None,\n",
    "        feature_names = features,\n",
    "        class_names = class_names,\n",
    "        filled = True,\n",
    "        rounded = True,\n",
    "        special_characters = True\n",
    "    )\n",
    "    \n",
    "    graph = graphviz.Source(dot_data)\n",
    "    \n",
    "    graph.render('decision_tree')\n",
    "    \n",
    "    return graph"
   ]
  },
  {
   "cell_type": "code",
   "execution_count": 11,
   "id": "f084900b",
   "metadata": {},
   "outputs": [
    {
     "data": {
      "image/svg+xml": [
       "<?xml version=\"1.0\" encoding=\"UTF-8\" standalone=\"no\"?>\r\n",
       "<!DOCTYPE svg PUBLIC \"-//W3C//DTD SVG 1.1//EN\"\r\n",
       " \"http://www.w3.org/Graphics/SVG/1.1/DTD/svg11.dtd\">\r\n",
       "<!-- Generated by graphviz version 2.38.0 (20140413.2041)\r\n",
       " -->\r\n",
       "<!-- Title: Tree Pages: 1 -->\r\n",
       "<svg width=\"1540pt\" height=\"433pt\"\r\n",
       " viewBox=\"0.00 0.00 1539.50 433.00\" xmlns=\"http://www.w3.org/2000/svg\" xmlns:xlink=\"http://www.w3.org/1999/xlink\">\r\n",
       "<g id=\"graph0\" class=\"graph\" transform=\"scale(1 1) rotate(0) translate(4 429)\">\r\n",
       "<title>Tree</title>\r\n",
       "<polygon fill=\"white\" stroke=\"none\" points=\"-4,4 -4,-429 1535.5,-429 1535.5,4 -4,4\"/>\r\n",
       "<!-- 0 -->\r\n",
       "<g id=\"node1\" class=\"node\"><title>0</title>\r\n",
       "<path fill=\"#f8c6e3\" stroke=\"black\" d=\"M856.5,-425C856.5,-425 679.5,-425 679.5,-425 673.5,-425 667.5,-419 667.5,-413 667.5,-413 667.5,-354 667.5,-354 667.5,-348 673.5,-342 679.5,-342 679.5,-342 856.5,-342 856.5,-342 862.5,-342 868.5,-348 868.5,-354 868.5,-354 868.5,-413 868.5,-413 868.5,-419 862.5,-425 856.5,-425\"/>\r\n",
       "<text text-anchor=\"start\" x=\"730\" y=\"-409.8\" font-family=\"Helvetica,sans-Serif\" font-size=\"14.00\">pov ≤ 21.75</text>\r\n",
       "<text text-anchor=\"start\" x=\"730.5\" y=\"-394.8\" font-family=\"Helvetica,sans-Serif\" font-size=\"14.00\">gini = 0.646</text>\r\n",
       "<text text-anchor=\"start\" x=\"720.5\" y=\"-379.8\" font-family=\"Helvetica,sans-Serif\" font-size=\"14.00\">samples = 305</text>\r\n",
       "<text text-anchor=\"start\" x=\"675.5\" y=\"-364.8\" font-family=\"Helvetica,sans-Serif\" font-size=\"14.00\">value = [7, 89, 45, 3, 10, 151]</text>\r\n",
       "<text text-anchor=\"start\" x=\"692\" y=\"-349.8\" font-family=\"Helvetica,sans-Serif\" font-size=\"14.00\">class = Native American</text>\r\n",
       "</g>\r\n",
       "<!-- 1 -->\r\n",
       "<g id=\"node2\" class=\"node\"><title>1</title>\r\n",
       "<path fill=\"#f29ecf\" stroke=\"black\" d=\"M660.5,-306C660.5,-306 483.5,-306 483.5,-306 477.5,-306 471.5,-300 471.5,-294 471.5,-294 471.5,-235 471.5,-235 471.5,-229 477.5,-223 483.5,-223 483.5,-223 660.5,-223 660.5,-223 666.5,-223 672.5,-229 672.5,-235 672.5,-235 672.5,-294 672.5,-294 672.5,-300 666.5,-306 660.5,-306\"/>\r\n",
       "<text text-anchor=\"start\" x=\"538.5\" y=\"-290.8\" font-family=\"Helvetica,sans-Serif\" font-size=\"14.00\">pov ≤ 17.7</text>\r\n",
       "<text text-anchor=\"start\" x=\"534.5\" y=\"-275.8\" font-family=\"Helvetica,sans-Serif\" font-size=\"14.00\">gini = 0.587</text>\r\n",
       "<text text-anchor=\"start\" x=\"524.5\" y=\"-260.8\" font-family=\"Helvetica,sans-Serif\" font-size=\"14.00\">samples = 185</text>\r\n",
       "<text text-anchor=\"start\" x=\"479.5\" y=\"-245.8\" font-family=\"Helvetica,sans-Serif\" font-size=\"14.00\">value = [4, 38, 22, 1, 10, 110]</text>\r\n",
       "<text text-anchor=\"start\" x=\"496\" y=\"-230.8\" font-family=\"Helvetica,sans-Serif\" font-size=\"14.00\">class = Native American</text>\r\n",
       "</g>\r\n",
       "<!-- 0&#45;&gt;1 -->\r\n",
       "<g id=\"edge1\" class=\"edge\"><title>0&#45;&gt;1</title>\r\n",
       "<path fill=\"none\" stroke=\"black\" d=\"M699.999,-341.907C683.428,-332.016 665.59,-321.368 648.648,-311.254\"/>\r\n",
       "<polygon fill=\"black\" stroke=\"black\" points=\"650.262,-308.141 639.881,-306.021 646.674,-314.152 650.262,-308.141\"/>\r\n",
       "<text text-anchor=\"middle\" x=\"645.999\" y=\"-326.561\" font-family=\"Helvetica,sans-Serif\" font-size=\"14.00\">True</text>\r\n",
       "</g>\r\n",
       "<!-- 8 -->\r\n",
       "<g id=\"node9\" class=\"node\"><title>8</title>\r\n",
       "<path fill=\"#f3fce6\" stroke=\"black\" d=\"M1041.5,-306C1041.5,-306 880.5,-306 880.5,-306 874.5,-306 868.5,-300 868.5,-294 868.5,-294 868.5,-235 868.5,-235 868.5,-229 874.5,-223 880.5,-223 880.5,-223 1041.5,-223 1041.5,-223 1047.5,-223 1053.5,-229 1053.5,-235 1053.5,-235 1053.5,-294 1053.5,-294 1053.5,-300 1047.5,-306 1041.5,-306\"/>\r\n",
       "<text text-anchor=\"start\" x=\"927.5\" y=\"-290.8\" font-family=\"Helvetica,sans-Serif\" font-size=\"14.00\">pov ≤ 24.2</text>\r\n",
       "<text text-anchor=\"start\" x=\"923.5\" y=\"-275.8\" font-family=\"Helvetica,sans-Serif\" font-size=\"14.00\">gini = 0.665</text>\r\n",
       "<text text-anchor=\"start\" x=\"913.5\" y=\"-260.8\" font-family=\"Helvetica,sans-Serif\" font-size=\"14.00\">samples = 120</text>\r\n",
       "<text text-anchor=\"start\" x=\"876.5\" y=\"-245.8\" font-family=\"Helvetica,sans-Serif\" font-size=\"14.00\">value = [3, 51, 23, 2, 0, 41]</text>\r\n",
       "<text text-anchor=\"start\" x=\"918\" y=\"-230.8\" font-family=\"Helvetica,sans-Serif\" font-size=\"14.00\">class = White</text>\r\n",
       "</g>\r\n",
       "<!-- 0&#45;&gt;8 -->\r\n",
       "<g id=\"edge8\" class=\"edge\"><title>0&#45;&gt;8</title>\r\n",
       "<path fill=\"none\" stroke=\"black\" d=\"M834.96,-341.907C851.278,-332.016 868.842,-321.368 885.525,-311.254\"/>\r\n",
       "<polygon fill=\"black\" stroke=\"black\" points=\"887.421,-314.198 894.158,-306.021 883.792,-308.212 887.421,-314.198\"/>\r\n",
       "<text text-anchor=\"middle\" x=\"888.205\" y=\"-326.602\" font-family=\"Helvetica,sans-Serif\" font-size=\"14.00\">False</text>\r\n",
       "</g>\r\n",
       "<!-- 2 -->\r\n",
       "<g id=\"node3\" class=\"node\"><title>2</title>\r\n",
       "<path fill=\"#f191c9\" stroke=\"black\" d=\"M358.5,-187C358.5,-187 197.5,-187 197.5,-187 191.5,-187 185.5,-181 185.5,-175 185.5,-175 185.5,-116 185.5,-116 185.5,-110 191.5,-104 197.5,-104 197.5,-104 358.5,-104 358.5,-104 364.5,-104 370.5,-110 370.5,-116 370.5,-116 370.5,-175 370.5,-175 370.5,-181 364.5,-187 358.5,-187\"/>\r\n",
       "<text text-anchor=\"start\" x=\"240\" y=\"-171.8\" font-family=\"Helvetica,sans-Serif\" font-size=\"14.00\">pov ≤ 11.95</text>\r\n",
       "<text text-anchor=\"start\" x=\"240.5\" y=\"-156.8\" font-family=\"Helvetica,sans-Serif\" font-size=\"14.00\">gini = 0.535</text>\r\n",
       "<text text-anchor=\"start\" x=\"230.5\" y=\"-141.8\" font-family=\"Helvetica,sans-Serif\" font-size=\"14.00\">samples = 137</text>\r\n",
       "<text text-anchor=\"start\" x=\"193.5\" y=\"-126.8\" font-family=\"Helvetica,sans-Serif\" font-size=\"14.00\">value = [2, 27, 15, 0, 5, 88]</text>\r\n",
       "<text text-anchor=\"start\" x=\"202\" y=\"-111.8\" font-family=\"Helvetica,sans-Serif\" font-size=\"14.00\">class = Native American</text>\r\n",
       "</g>\r\n",
       "<!-- 1&#45;&gt;2 -->\r\n",
       "<g id=\"edge2\" class=\"edge\"><title>1&#45;&gt;2</title>\r\n",
       "<path fill=\"none\" stroke=\"black\" d=\"M471.233,-223.399C441.835,-211.7 409.69,-198.907 380.203,-187.173\"/>\r\n",
       "<polygon fill=\"black\" stroke=\"black\" points=\"381.316,-183.848 370.73,-183.403 378.727,-190.352 381.316,-183.848\"/>\r\n",
       "</g>\r\n",
       "<!-- 5 -->\r\n",
       "<g id=\"node6\" class=\"node\"><title>5</title>\r\n",
       "<path fill=\"#f7c4e2\" stroke=\"black\" d=\"M648,-187C648,-187 496,-187 496,-187 490,-187 484,-181 484,-175 484,-175 484,-116 484,-116 484,-110 490,-104 496,-104 496,-104 648,-104 648,-104 654,-104 660,-110 660,-116 660,-116 660,-175 660,-175 660,-181 654,-187 648,-187\"/>\r\n",
       "<text text-anchor=\"start\" x=\"534\" y=\"-171.8\" font-family=\"Helvetica,sans-Serif\" font-size=\"14.00\">pov ≤ 17.95</text>\r\n",
       "<text text-anchor=\"start\" x=\"534.5\" y=\"-156.8\" font-family=\"Helvetica,sans-Serif\" font-size=\"14.00\">gini = 0.703</text>\r\n",
       "<text text-anchor=\"start\" x=\"528.5\" y=\"-141.8\" font-family=\"Helvetica,sans-Serif\" font-size=\"14.00\">samples = 48</text>\r\n",
       "<text text-anchor=\"start\" x=\"492\" y=\"-126.8\" font-family=\"Helvetica,sans-Serif\" font-size=\"14.00\">value = [2, 11, 7, 1, 5, 22]</text>\r\n",
       "<text text-anchor=\"start\" x=\"496\" y=\"-111.8\" font-family=\"Helvetica,sans-Serif\" font-size=\"14.00\">class = Native American</text>\r\n",
       "</g>\r\n",
       "<!-- 1&#45;&gt;5 -->\r\n",
       "<g id=\"edge5\" class=\"edge\"><title>1&#45;&gt;5</title>\r\n",
       "<path fill=\"none\" stroke=\"black\" d=\"M572,-222.907C572,-214.649 572,-205.864 572,-197.302\"/>\r\n",
       "<polygon fill=\"black\" stroke=\"black\" points=\"575.5,-197.021 572,-187.021 568.5,-197.021 575.5,-197.021\"/>\r\n",
       "</g>\r\n",
       "<!-- 3 -->\r\n",
       "<g id=\"node4\" class=\"node\"><title>3</title>\r\n",
       "<path fill=\"#f3a6d3\" stroke=\"black\" d=\"M164,-68C164,-68 12,-68 12,-68 6,-68 0,-62 0,-56 0,-56 0,-12 0,-12 0,-6 6,-0 12,-0 12,-0 164,-0 164,-0 170,-0 176,-6 176,-12 176,-12 176,-56 176,-56 176,-62 170,-68 164,-68\"/>\r\n",
       "<text text-anchor=\"start\" x=\"50.5\" y=\"-52.8\" font-family=\"Helvetica,sans-Serif\" font-size=\"14.00\">gini = 0.557</text>\r\n",
       "<text text-anchor=\"start\" x=\"44.5\" y=\"-37.8\" font-family=\"Helvetica,sans-Serif\" font-size=\"14.00\">samples = 85</text>\r\n",
       "<text text-anchor=\"start\" x=\"8\" y=\"-22.8\" font-family=\"Helvetica,sans-Serif\" font-size=\"14.00\">value = [0, 23, 8, 0, 3, 51]</text>\r\n",
       "<text text-anchor=\"start\" x=\"12\" y=\"-7.8\" font-family=\"Helvetica,sans-Serif\" font-size=\"14.00\">class = Native American</text>\r\n",
       "</g>\r\n",
       "<!-- 2&#45;&gt;3 -->\r\n",
       "<g id=\"edge3\" class=\"edge\"><title>2&#45;&gt;3</title>\r\n",
       "<path fill=\"none\" stroke=\"black\" d=\"M207.521,-103.882C190.074,-93.8269 171.443,-83.0892 154.207,-73.1563\"/>\r\n",
       "<polygon fill=\"black\" stroke=\"black\" points=\"155.747,-70.0042 145.335,-68.0433 152.252,-76.0691 155.747,-70.0042\"/>\r\n",
       "</g>\r\n",
       "<!-- 4 -->\r\n",
       "<g id=\"node5\" class=\"node\"><title>4</title>\r\n",
       "<path fill=\"#ee7bbe\" stroke=\"black\" d=\"M350,-68C350,-68 206,-68 206,-68 200,-68 194,-62 194,-56 194,-56 194,-12 194,-12 194,-6 200,-0 206,-0 206,-0 350,-0 350,-0 356,-0 362,-6 362,-12 362,-12 362,-56 362,-56 362,-62 356,-68 350,-68\"/>\r\n",
       "<text text-anchor=\"start\" x=\"240.5\" y=\"-52.8\" font-family=\"Helvetica,sans-Serif\" font-size=\"14.00\">gini = 0.467</text>\r\n",
       "<text text-anchor=\"start\" x=\"234.5\" y=\"-37.8\" font-family=\"Helvetica,sans-Serif\" font-size=\"14.00\">samples = 52</text>\r\n",
       "<text text-anchor=\"start\" x=\"202\" y=\"-22.8\" font-family=\"Helvetica,sans-Serif\" font-size=\"14.00\">value = [2, 4, 7, 0, 2, 37]</text>\r\n",
       "<text text-anchor=\"start\" x=\"202\" y=\"-7.8\" font-family=\"Helvetica,sans-Serif\" font-size=\"14.00\">class = Native American</text>\r\n",
       "</g>\r\n",
       "<!-- 2&#45;&gt;4 -->\r\n",
       "<g id=\"edge4\" class=\"edge\"><title>2&#45;&gt;4</title>\r\n",
       "<path fill=\"none\" stroke=\"black\" d=\"M278,-103.726C278,-95.5175 278,-86.8595 278,-78.56\"/>\r\n",
       "<polygon fill=\"black\" stroke=\"black\" points=\"281.5,-78.2996 278,-68.2996 274.5,-78.2996 281.5,-78.2996\"/>\r\n",
       "</g>\r\n",
       "<!-- 6 -->\r\n",
       "<g id=\"node7\" class=\"node\"><title>6</title>\r\n",
       "<path fill=\"#c09cf2\" stroke=\"black\" d=\"M570,-68C570,-68 392,-68 392,-68 386,-68 380,-62 380,-56 380,-56 380,-12 380,-12 380,-6 386,-0 392,-0 392,-0 570,-0 570,-0 576,-0 582,-6 582,-12 582,-12 582,-56 582,-56 582,-62 576,-68 570,-68\"/>\r\n",
       "<text text-anchor=\"start\" x=\"443.5\" y=\"-52.8\" font-family=\"Helvetica,sans-Serif\" font-size=\"14.00\">gini = 0.444</text>\r\n",
       "<text text-anchor=\"start\" x=\"441.5\" y=\"-37.8\" font-family=\"Helvetica,sans-Serif\" font-size=\"14.00\">samples = 3</text>\r\n",
       "<text text-anchor=\"start\" x=\"409\" y=\"-22.8\" font-family=\"Helvetica,sans-Serif\" font-size=\"14.00\">value = [0, 0, 1, 0, 2, 0]</text>\r\n",
       "<text text-anchor=\"start\" x=\"388\" y=\"-7.8\" font-family=\"Helvetica,sans-Serif\" font-size=\"14.00\">class = Asian/Pacific Islander</text>\r\n",
       "</g>\r\n",
       "<!-- 5&#45;&gt;6 -->\r\n",
       "<g id=\"edge6\" class=\"edge\"><title>5&#45;&gt;6</title>\r\n",
       "<path fill=\"none\" stroke=\"black\" d=\"M538.115,-103.726C530.611,-94.6966 522.655,-85.1235 515.141,-76.0816\"/>\r\n",
       "<polygon fill=\"black\" stroke=\"black\" points=\"517.757,-73.7534 508.674,-68.2996 512.373,-78.2275 517.757,-73.7534\"/>\r\n",
       "</g>\r\n",
       "<!-- 7 -->\r\n",
       "<g id=\"node8\" class=\"node\"><title>7</title>\r\n",
       "<path fill=\"#f7bfdf\" stroke=\"black\" d=\"M764,-68C764,-68 612,-68 612,-68 606,-68 600,-62 600,-56 600,-56 600,-12 600,-12 600,-6 606,-0 612,-0 612,-0 764,-0 764,-0 770,-0 776,-6 776,-12 776,-12 776,-56 776,-56 776,-62 770,-68 764,-68\"/>\r\n",
       "<text text-anchor=\"start\" x=\"650.5\" y=\"-52.8\" font-family=\"Helvetica,sans-Serif\" font-size=\"14.00\">gini = 0.677</text>\r\n",
       "<text text-anchor=\"start\" x=\"644.5\" y=\"-37.8\" font-family=\"Helvetica,sans-Serif\" font-size=\"14.00\">samples = 45</text>\r\n",
       "<text text-anchor=\"start\" x=\"608\" y=\"-22.8\" font-family=\"Helvetica,sans-Serif\" font-size=\"14.00\">value = [2, 11, 6, 1, 3, 22]</text>\r\n",
       "<text text-anchor=\"start\" x=\"612\" y=\"-7.8\" font-family=\"Helvetica,sans-Serif\" font-size=\"14.00\">class = Native American</text>\r\n",
       "</g>\r\n",
       "<!-- 5&#45;&gt;7 -->\r\n",
       "<g id=\"edge7\" class=\"edge\"><title>5&#45;&gt;7</title>\r\n",
       "<path fill=\"none\" stroke=\"black\" d=\"M615.194,-103.726C625.05,-94.423 635.516,-84.5428 645.349,-75.2612\"/>\r\n",
       "<polygon fill=\"black\" stroke=\"black\" points=\"647.854,-77.7092 652.724,-68.2996 643.049,-72.6189 647.854,-77.7092\"/>\r\n",
       "</g>\r\n",
       "<!-- 9 -->\r\n",
       "<g id=\"node10\" class=\"node\"><title>9</title>\r\n",
       "<path fill=\"#e2f7c4\" stroke=\"black\" d=\"M1029,-187C1029,-187 893,-187 893,-187 887,-187 881,-181 881,-175 881,-175 881,-116 881,-116 881,-110 887,-104 893,-104 893,-104 1029,-104 1029,-104 1035,-104 1041,-110 1041,-116 1041,-116 1041,-175 1041,-175 1041,-181 1035,-187 1029,-187\"/>\r\n",
       "<text text-anchor=\"start\" x=\"927.5\" y=\"-171.8\" font-family=\"Helvetica,sans-Serif\" font-size=\"14.00\">pov ≤ 24.0</text>\r\n",
       "<text text-anchor=\"start\" x=\"923.5\" y=\"-156.8\" font-family=\"Helvetica,sans-Serif\" font-size=\"14.00\">gini = 0.596</text>\r\n",
       "<text text-anchor=\"start\" x=\"917.5\" y=\"-141.8\" font-family=\"Helvetica,sans-Serif\" font-size=\"14.00\">samples = 15</text>\r\n",
       "<text text-anchor=\"start\" x=\"889\" y=\"-126.8\" font-family=\"Helvetica,sans-Serif\" font-size=\"14.00\">value = [1, 8, 5, 0, 0, 1]</text>\r\n",
       "<text text-anchor=\"start\" x=\"918\" y=\"-111.8\" font-family=\"Helvetica,sans-Serif\" font-size=\"14.00\">class = White</text>\r\n",
       "</g>\r\n",
       "<!-- 8&#45;&gt;9 -->\r\n",
       "<g id=\"edge9\" class=\"edge\"><title>8&#45;&gt;9</title>\r\n",
       "<path fill=\"none\" stroke=\"black\" d=\"M961,-222.907C961,-214.649 961,-205.864 961,-197.302\"/>\r\n",
       "<polygon fill=\"black\" stroke=\"black\" points=\"964.5,-197.021 961,-187.021 957.5,-197.021 964.5,-197.021\"/>\r\n",
       "</g>\r\n",
       "<!-- 12 -->\r\n",
       "<g id=\"node13\" class=\"node\"><title>12</title>\r\n",
       "<path fill=\"#fafef6\" stroke=\"black\" d=\"M1320.5,-187C1320.5,-187 1159.5,-187 1159.5,-187 1153.5,-187 1147.5,-181 1147.5,-175 1147.5,-175 1147.5,-116 1147.5,-116 1147.5,-110 1153.5,-104 1159.5,-104 1159.5,-104 1320.5,-104 1320.5,-104 1326.5,-104 1332.5,-110 1332.5,-116 1332.5,-116 1332.5,-175 1332.5,-175 1332.5,-181 1326.5,-187 1320.5,-187\"/>\r\n",
       "<text text-anchor=\"start\" x=\"1206.5\" y=\"-171.8\" font-family=\"Helvetica,sans-Serif\" font-size=\"14.00\">pov ≤ 36.0</text>\r\n",
       "<text text-anchor=\"start\" x=\"1202.5\" y=\"-156.8\" font-family=\"Helvetica,sans-Serif\" font-size=\"14.00\">gini = 0.657</text>\r\n",
       "<text text-anchor=\"start\" x=\"1192.5\" y=\"-141.8\" font-family=\"Helvetica,sans-Serif\" font-size=\"14.00\">samples = 105</text>\r\n",
       "<text text-anchor=\"start\" x=\"1155.5\" y=\"-126.8\" font-family=\"Helvetica,sans-Serif\" font-size=\"14.00\">value = [2, 43, 18, 2, 0, 40]</text>\r\n",
       "<text text-anchor=\"start\" x=\"1197\" y=\"-111.8\" font-family=\"Helvetica,sans-Serif\" font-size=\"14.00\">class = White</text>\r\n",
       "</g>\r\n",
       "<!-- 8&#45;&gt;12 -->\r\n",
       "<g id=\"edge12\" class=\"edge\"><title>8&#45;&gt;12</title>\r\n",
       "<path fill=\"none\" stroke=\"black\" d=\"M1053.52,-224.703C1080.59,-213.348 1110.34,-200.872 1137.98,-189.284\"/>\r\n",
       "<polygon fill=\"black\" stroke=\"black\" points=\"1139.39,-192.486 1147.26,-185.391 1136.68,-186.031 1139.39,-192.486\"/>\r\n",
       "</g>\r\n",
       "<!-- 10 -->\r\n",
       "<g id=\"node11\" class=\"node\"><title>10</title>\r\n",
       "<path fill=\"#d3f3a7\" stroke=\"black\" d=\"M942,-68C942,-68 806,-68 806,-68 800,-68 794,-62 794,-56 794,-56 794,-12 794,-12 794,-6 800,-0 806,-0 806,-0 942,-0 942,-0 948,-0 954,-6 954,-12 954,-12 954,-56 954,-56 954,-62 948,-68 942,-68\"/>\r\n",
       "<text text-anchor=\"start\" x=\"836.5\" y=\"-52.8\" font-family=\"Helvetica,sans-Serif\" font-size=\"14.00\">gini = 0.583</text>\r\n",
       "<text text-anchor=\"start\" x=\"830.5\" y=\"-37.8\" font-family=\"Helvetica,sans-Serif\" font-size=\"14.00\">samples = 12</text>\r\n",
       "<text text-anchor=\"start\" x=\"802\" y=\"-22.8\" font-family=\"Helvetica,sans-Serif\" font-size=\"14.00\">value = [1, 7, 3, 0, 0, 1]</text>\r\n",
       "<text text-anchor=\"start\" x=\"831\" y=\"-7.8\" font-family=\"Helvetica,sans-Serif\" font-size=\"14.00\">class = White</text>\r\n",
       "</g>\r\n",
       "<!-- 9&#45;&gt;10 -->\r\n",
       "<g id=\"edge10\" class=\"edge\"><title>9&#45;&gt;10</title>\r\n",
       "<path fill=\"none\" stroke=\"black\" d=\"M928.604,-103.726C921.503,-94.7878 913.978,-85.3168 906.858,-76.3558\"/>\r\n",
       "<polygon fill=\"black\" stroke=\"black\" points=\"909.418,-73.9519 900.457,-68.2996 903.938,-78.3065 909.418,-73.9519\"/>\r\n",
       "</g>\r\n",
       "<!-- 11 -->\r\n",
       "<g id=\"node12\" class=\"node\"><title>11</title>\r\n",
       "<path fill=\"#9cf2c0\" stroke=\"black\" d=\"M1121.5,-68C1121.5,-68 984.5,-68 984.5,-68 978.5,-68 972.5,-62 972.5,-56 972.5,-56 972.5,-12 972.5,-12 972.5,-6 978.5,-0 984.5,-0 984.5,-0 1121.5,-0 1121.5,-0 1127.5,-0 1133.5,-6 1133.5,-12 1133.5,-12 1133.5,-56 1133.5,-56 1133.5,-62 1127.5,-68 1121.5,-68\"/>\r\n",
       "<text text-anchor=\"start\" x=\"1015.5\" y=\"-52.8\" font-family=\"Helvetica,sans-Serif\" font-size=\"14.00\">gini = 0.444</text>\r\n",
       "<text text-anchor=\"start\" x=\"1013.5\" y=\"-37.8\" font-family=\"Helvetica,sans-Serif\" font-size=\"14.00\">samples = 3</text>\r\n",
       "<text text-anchor=\"start\" x=\"981\" y=\"-22.8\" font-family=\"Helvetica,sans-Serif\" font-size=\"14.00\">value = [0, 1, 2, 0, 0, 0]</text>\r\n",
       "<text text-anchor=\"start\" x=\"980.5\" y=\"-7.8\" font-family=\"Helvetica,sans-Serif\" font-size=\"14.00\">class = Hispanic/Latino</text>\r\n",
       "</g>\r\n",
       "<!-- 9&#45;&gt;11 -->\r\n",
       "<g id=\"edge11\" class=\"edge\"><title>9&#45;&gt;11</title>\r\n",
       "<path fill=\"none\" stroke=\"black\" d=\"M995.257,-103.726C1002.84,-94.6966 1010.89,-85.1235 1018.48,-76.0816\"/>\r\n",
       "<polygon fill=\"black\" stroke=\"black\" points=\"1021.27,-78.2075 1025.02,-68.2996 1015.91,-73.7045 1021.27,-78.2075\"/>\r\n",
       "</g>\r\n",
       "<!-- 13 -->\r\n",
       "<g id=\"node14\" class=\"node\"><title>13</title>\r\n",
       "<path fill=\"#f9d3e9\" stroke=\"black\" d=\"M1316,-68C1316,-68 1164,-68 1164,-68 1158,-68 1152,-62 1152,-56 1152,-56 1152,-12 1152,-12 1152,-6 1158,-0 1164,-0 1164,-0 1316,-0 1316,-0 1322,-0 1328,-6 1328,-12 1328,-12 1328,-56 1328,-56 1328,-62 1322,-68 1316,-68\"/>\r\n",
       "<text text-anchor=\"start\" x=\"1202.5\" y=\"-52.8\" font-family=\"Helvetica,sans-Serif\" font-size=\"14.00\">gini = 0.618</text>\r\n",
       "<text text-anchor=\"start\" x=\"1196.5\" y=\"-37.8\" font-family=\"Helvetica,sans-Serif\" font-size=\"14.00\">samples = 55</text>\r\n",
       "<text text-anchor=\"start\" x=\"1160\" y=\"-22.8\" font-family=\"Helvetica,sans-Serif\" font-size=\"14.00\">value = [1, 19, 8, 0, 0, 27]</text>\r\n",
       "<text text-anchor=\"start\" x=\"1164\" y=\"-7.8\" font-family=\"Helvetica,sans-Serif\" font-size=\"14.00\">class = Native American</text>\r\n",
       "</g>\r\n",
       "<!-- 12&#45;&gt;13 -->\r\n",
       "<g id=\"edge13\" class=\"edge\"><title>12&#45;&gt;13</title>\r\n",
       "<path fill=\"none\" stroke=\"black\" d=\"M1240,-103.726C1240,-95.5175 1240,-86.8595 1240,-78.56\"/>\r\n",
       "<polygon fill=\"black\" stroke=\"black\" points=\"1243.5,-78.2996 1240,-68.2996 1236.5,-78.2996 1243.5,-78.2996\"/>\r\n",
       "</g>\r\n",
       "<!-- 14 -->\r\n",
       "<g id=\"node15\" class=\"node\"><title>14</title>\r\n",
       "<path fill=\"#e2f7c4\" stroke=\"black\" d=\"M1519.5,-68C1519.5,-68 1358.5,-68 1358.5,-68 1352.5,-68 1346.5,-62 1346.5,-56 1346.5,-56 1346.5,-12 1346.5,-12 1346.5,-6 1352.5,-0 1358.5,-0 1358.5,-0 1519.5,-0 1519.5,-0 1525.5,-0 1531.5,-6 1531.5,-12 1531.5,-12 1531.5,-56 1531.5,-56 1531.5,-62 1525.5,-68 1519.5,-68\"/>\r\n",
       "<text text-anchor=\"start\" x=\"1405.5\" y=\"-52.8\" font-family=\"Helvetica,sans-Serif\" font-size=\"14.00\">gini = 0.66</text>\r\n",
       "<text text-anchor=\"start\" x=\"1395.5\" y=\"-37.8\" font-family=\"Helvetica,sans-Serif\" font-size=\"14.00\">samples = 50</text>\r\n",
       "<text text-anchor=\"start\" x=\"1354.5\" y=\"-22.8\" font-family=\"Helvetica,sans-Serif\" font-size=\"14.00\">value = [1, 24, 10, 2, 0, 13]</text>\r\n",
       "<text text-anchor=\"start\" x=\"1396\" y=\"-7.8\" font-family=\"Helvetica,sans-Serif\" font-size=\"14.00\">class = White</text>\r\n",
       "</g>\r\n",
       "<!-- 12&#45;&gt;14 -->\r\n",
       "<g id=\"edge14\" class=\"edge\"><title>12&#45;&gt;14</title>\r\n",
       "<path fill=\"none\" stroke=\"black\" d=\"M1313.82,-103.882C1332.26,-93.7346 1351.96,-82.8922 1370.15,-72.8832\"/>\r\n",
       "<polygon fill=\"black\" stroke=\"black\" points=\"1371.87,-75.9307 1378.95,-68.0433 1368.5,-69.7978 1371.87,-75.9307\"/>\r\n",
       "</g>\r\n",
       "</g>\r\n",
       "</svg>\r\n"
      ],
      "text/plain": [
       "<graphviz.files.Source at 0x223c658ce80>"
      ]
     },
     "execution_count": 11,
     "metadata": {},
     "output_type": "execute_result"
    }
   ],
   "source": [
    "plot_tree(dt, ['pov'], data.raceethnicity.unique())"
   ]
  },
  {
   "cell_type": "markdown",
   "id": "d6afbc08",
   "metadata": {},
   "source": [
    "### Predictions "
   ]
  },
  {
   "cell_type": "code",
   "execution_count": 23,
   "id": "a508a20b",
   "metadata": {},
   "outputs": [
    {
     "data": {
      "text/plain": [
       "{'Black': 62, 'Hispanic/Latino': 3, 'Unknown': 3, 'White': 237}"
      ]
     },
     "execution_count": 23,
     "metadata": {},
     "output_type": "execute_result"
    }
   ],
   "source": [
    "import numpy\n",
    "\n",
    "predictionsTrain = dt.predict(trainset[['pov']])\n",
    "\n",
    "unique, counts = numpy.unique(predictionsTrain, return_counts=True)\n",
    "dict(zip(unique, counts))\n"
   ]
  },
  {
   "cell_type": "code",
   "execution_count": 26,
   "id": "29440a54",
   "metadata": {},
   "outputs": [
    {
     "data": {
      "text/plain": [
       "{'Black': 27, 'Unknown': 2, 'White': 102}"
      ]
     },
     "execution_count": 26,
     "metadata": {},
     "output_type": "execute_result"
    }
   ],
   "source": [
    "predictionsTest = dt.predict(testset[['pov']])\n",
    "\n",
    "unique, counts = numpy.unique(predictionsTest, return_counts=True)\n",
    "dict(zip(unique, counts))"
   ]
  },
  {
   "cell_type": "markdown",
   "id": "276e67ac",
   "metadata": {},
   "source": [
    "In the Train set is more diversion. White and black are in both sets the most common value. "
   ]
  },
  {
   "cell_type": "markdown",
   "id": "cdc570c9",
   "metadata": {},
   "source": [
    "### Accuracy"
   ]
  },
  {
   "cell_type": "code",
   "execution_count": 27,
   "id": "f2cde610",
   "metadata": {},
   "outputs": [],
   "source": [
    "def calculate_accuracy(predictions, actuals):\n",
    "    if(len(predictions) != len(actuals)):\n",
    "        raise Exception(\"The amount of predictions did not equal the amount of actuals\")\n",
    "\n",
    "    return (predictions == actuals).sum() / len(actuals)"
   ]
  },
  {
   "cell_type": "code",
   "execution_count": 28,
   "id": "371efc94",
   "metadata": {},
   "outputs": [
    {
     "name": "stdout",
     "output_type": "stream",
     "text": [
      "Accuracy on training set 0.5639344262295082\n",
      "Accuracy on test set 0.5190839694656488\n"
     ]
    }
   ],
   "source": [
    "accuracyTrain = calculate_accuracy(predictionsTrain, trainset.raceethnicity)\n",
    "accuracyTest = calculate_accuracy(predictionsTest, testset.raceethnicity)\n",
    "\n",
    "print(\"Accuracy on training set \" + str(accuracyTrain))\n",
    "print(\"Accuracy on test set \" + str(accuracyTest))"
   ]
  },
  {
   "cell_type": "markdown",
   "id": "d4481145",
   "metadata": {},
   "source": [
    "Accuracy is low, it is not reliable."
   ]
  },
  {
   "cell_type": "code",
   "execution_count": null,
   "id": "eb5cad43",
   "metadata": {},
   "outputs": [],
   "source": []
  }
 ],
 "metadata": {
  "kernelspec": {
   "display_name": "Python 3 (ipykernel)",
   "language": "python",
   "name": "python3"
  },
  "language_info": {
   "codemirror_mode": {
    "name": "ipython",
    "version": 3
   },
   "file_extension": ".py",
   "mimetype": "text/x-python",
   "name": "python",
   "nbconvert_exporter": "python",
   "pygments_lexer": "ipython3",
   "version": "3.8.12"
  }
 },
 "nbformat": 4,
 "nbformat_minor": 5
}
