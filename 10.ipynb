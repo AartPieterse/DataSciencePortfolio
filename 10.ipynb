{
 "cells": [
  {
   "cell_type": "markdown",
   "metadata": {},
   "source": [
    "# Portfolio assignment 10\n",
    "Perform a bivariate analysis (Pearson correlation and scatter plot) on at least 1 combination of 2 columns with numeric data in the dataset that you chose in portfolio assignment 4. Does the correlation and scatter plot match your expectations? Add your answer to your notebook."
   ]
  },
  {
   "cell_type": "code",
   "execution_count": 1,
   "metadata": {},
   "outputs": [],
   "source": [
    "import pandas as pd\n",
    "pd.options.mode.chained_assignment = None\n",
    "\n",
    "import seaborn as sns"
   ]
  },
  {
   "cell_type": "code",
   "execution_count": 2,
   "metadata": {},
   "outputs": [
    {
     "data": {
      "text/plain": [
       "(467, 34)"
      ]
     },
     "execution_count": 2,
     "metadata": {},
     "output_type": "execute_result"
    }
   ],
   "source": [
    "data = pd.read_csv('4.data.txt')\n",
    "data.shape"
   ]
  },
  {
   "cell_type": "markdown",
   "metadata": {},
   "source": [
    "### Pov & Urate: clean data and convert to float"
   ]
  },
  {
   "cell_type": "code",
   "execution_count": 3,
   "metadata": {},
   "outputs": [],
   "source": [
    "data = data[data.pov != '-']\n",
    "data['pov'] = data['pov'].astype(float)\n",
    "data['urate'] = data['urate'] * 100"
   ]
  },
  {
   "cell_type": "code",
   "execution_count": 4,
   "metadata": {},
   "outputs": [],
   "source": [
    "data['urate'] = data['urate'].astype(float)"
   ]
  },
  {
   "cell_type": "markdown",
   "metadata": {},
   "source": [
    "### Correlation"
   ]
  },
  {
   "cell_type": "code",
   "execution_count": 5,
   "metadata": {},
   "outputs": [
    {
     "data": {
      "text/html": [
       "<style type=\"text/css\">\n",
       "#T_18e94_row0_col0, #T_18e94_row1_col1 {\n",
       "  background-color: #b40426;\n",
       "  color: #f1f1f1;\n",
       "}\n",
       "#T_18e94_row0_col1, #T_18e94_row1_col0 {\n",
       "  background-color: #3b4cc0;\n",
       "  color: #f1f1f1;\n",
       "}\n",
       "</style>\n",
       "<table id=\"T_18e94\">\n",
       "  <thead>\n",
       "    <tr>\n",
       "      <th class=\"blank level0\" >&nbsp;</th>\n",
       "      <th id=\"T_18e94_level0_col0\" class=\"col_heading level0 col0\" >urate</th>\n",
       "      <th id=\"T_18e94_level0_col1\" class=\"col_heading level0 col1\" >pov</th>\n",
       "    </tr>\n",
       "  </thead>\n",
       "  <tbody>\n",
       "    <tr>\n",
       "      <th id=\"T_18e94_level0_row0\" class=\"row_heading level0 row0\" >urate</th>\n",
       "      <td id=\"T_18e94_row0_col0\" class=\"data row0 col0\" >1.00</td>\n",
       "      <td id=\"T_18e94_row0_col1\" class=\"data row0 col1\" >0.59</td>\n",
       "    </tr>\n",
       "    <tr>\n",
       "      <th id=\"T_18e94_level0_row1\" class=\"row_heading level0 row1\" >pov</th>\n",
       "      <td id=\"T_18e94_row1_col0\" class=\"data row1 col0\" >0.59</td>\n",
       "      <td id=\"T_18e94_row1_col1\" class=\"data row1 col1\" >1.00</td>\n",
       "    </tr>\n",
       "  </tbody>\n",
       "</table>\n"
      ],
      "text/plain": [
       "<pandas.io.formats.style.Styler at 0x20f1bdf5430>"
      ]
     },
     "execution_count": 5,
     "metadata": {},
     "output_type": "execute_result"
    }
   ],
   "source": [
    "datacorr = data[['urate', 'pov']].corr()\n",
    "datacorr.style.background_gradient(cmap='coolwarm', axis=None).format(precision=2)"
   ]
  },
  {
   "cell_type": "markdown",
   "metadata": {},
   "source": [
    "I chose the fields unemploymentrate (urate) and povertyrate (pov). Both values are on tract-level.\n",
    "- The povertyrate represents the percentage of people who live below the povertyline, which is a minimum income of \\\\$1.90 per day\n",
    "- The unemploymentrate represents the percentage of people who are unemployed\n",
    "\n",
    "I expected there to be a correlation, for people who are unemployed are more likely to live below the povertyline, while employed people are usually richer, or at least can keep themselves and there families above the povertyline. \n",
    "\n",
    "The 0.59 correlation is not very strong, but there a weak correlation between those two values.\n",
    "\n"
   ]
  },
  {
   "cell_type": "markdown",
   "metadata": {},
   "source": [
    "### Scatterplot"
   ]
  },
  {
   "cell_type": "code",
   "execution_count": 6,
   "metadata": {},
   "outputs": [
    {
     "data": {
      "text/plain": [
       "<AxesSubplot:xlabel='% unemployed', ylabel='% below povertyline'>"
      ]
     },
     "execution_count": 6,
     "metadata": {},
     "output_type": "execute_result"
    },
    {
     "data": {
      "image/png": "[encoded data removed]",
      "text/plain": [
       "<Figure size 576x432 with 1 Axes>"
      ]
     },
     "metadata": {
      "needs_background": "light"
     },
     "output_type": "display_data"
    }
   ],
   "source": [
    "data.plot(kind='scatter', x='urate', y='pov', figsize=(8, 6), xlabel='% unemployed', ylabel='% below povertyline')"
   ]
  },
  {
   "cell_type": "markdown",
   "metadata": {},
   "source": [
    "In this scatterplot there is cloud in the bottom-left corner, stretching out to the centre. The multitude of dots in the bottom-left means there is less poverty in tracts where there is less unemployment.\n",
    "\n",
    "We can also see there are a lot of people who live below the poverty line, the most dots appear between the 5% and 30%. If in a tract 15% of the people are poor, that's quite a lot. You wouldn't expect these numbers in a first world country."
   ]
  },
  {
   "cell_type": "code",
   "execution_count": null,
   "metadata": {},
   "outputs": [],
   "source": []
  }
 ],
 "metadata": {
  "kernelspec": {
   "display_name": "Python 3 (ipykernel)",
   "language": "python",
   "name": "python3"
  },
  "language_info": {
   "codemirror_mode": {
    "name": "ipython",
    "version": 3
   },
   "file_extension": ".py",
   "mimetype": "text/x-python",
   "name": "python",
   "nbconvert_exporter": "python",
   "pygments_lexer": "ipython3",
   "version": "3.8.12"
  }
 },
 "nbformat": 4,
 "nbformat_minor": 4
}
